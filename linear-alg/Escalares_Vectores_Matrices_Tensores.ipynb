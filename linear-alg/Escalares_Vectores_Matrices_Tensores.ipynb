{
 "cells": [
  {
   "cell_type": "code",
   "execution_count": 2,
   "metadata": {},
   "outputs": [
    {
     "name": "stdout",
     "output_type": "stream",
     "text": [
      "4839\n",
      "<class 'int'>\n"
     ]
    }
   ],
   "source": [
    "#Escalar\n",
    "#puede ser cualquier valor singular: null, int, string, bool\n",
    "escalar = 4839\n",
    "print(escalar)\n",
    "print(type(escalar))"
   ]
  },
  {
   "cell_type": "code",
   "execution_count": 3,
   "metadata": {},
   "outputs": [],
   "source": [
    "#Vector\n",
    "#Conjunto de números\n",
    "#[1,2,3,4]"
   ]
  },
  {
   "cell_type": "code",
   "execution_count": 4,
   "metadata": {},
   "outputs": [],
   "source": [
    "#Matriz\n",
    "#Dos grados de libertad\n",
    "#Vectores apilados"
   ]
  },
  {
   "cell_type": "code",
   "execution_count": 5,
   "metadata": {},
   "outputs": [],
   "source": [
    "#Tensor\n",
    "#Múltiples matrices"
   ]
  },
  {
   "cell_type": "code",
   "execution_count": 6,
   "metadata": {},
   "outputs": [],
   "source": [
    "import numpy as np"
   ]
  },
  {
   "cell_type": "code",
   "execution_count": 7,
   "metadata": {},
   "outputs": [
    {
     "name": "stdout",
     "output_type": "stream",
     "text": [
      "[1 2 4 5 7]\n"
     ]
    }
   ],
   "source": [
    "vector = np.array([1,2,4,5,7])\n",
    "print(vector)"
   ]
  },
  {
   "cell_type": "code",
   "execution_count": 9,
   "metadata": {},
   "outputs": [
    {
     "name": "stdout",
     "output_type": "stream",
     "text": [
      "[[ 1  2  3  4  5]\n",
      " [ 6  7  8  9 10]]\n"
     ]
    }
   ],
   "source": [
    "matriz = np.array([[1,2,3,4,5],[6,7,8,9,10]])\n",
    "print(matriz)"
   ]
  },
  {
   "cell_type": "code",
   "execution_count": 19,
   "metadata": {},
   "outputs": [
    {
     "name": "stdout",
     "output_type": "stream",
     "text": [
      "[[[255 255   3]\n",
      "  [100 100  60]\n",
      "  [  7   8   9]]\n",
      "\n",
      " [[ 10  11  12]\n",
      "  [ 13  14  15]\n",
      "  [ 16  17  18]]]\n"
     ]
    }
   ],
   "source": [
    "tensor = np.array([\n",
    "    [[255,255,3],[100,100,60],[7,8,9]],\n",
    "    [[10,11,12],[13,14,15],[16,17,18]]\n",
    "])\n",
    "print(tensor)"
   ]
  },
  {
   "cell_type": "code",
   "execution_count": 20,
   "metadata": {},
   "outputs": [
    {
     "data": {
      "image/png": "[encoded data removed]",
      "text/plain": [
       "<Figure size 432x288 with 1 Axes>"
      ]
     },
     "metadata": {
      "needs_background": "light"
     },
     "output_type": "display_data"
    }
   ],
   "source": [
    "#No se puede asumir que un dato representa algo solo porque esta ahi\n",
    "%matplotlib inline\n",
    "#para que ponga el grafico abajo de la celda\n",
    "import matplotlib.pyplot as plt\n",
    "#Interpolation es como se unen los espacios entre dos números\n",
    "plt.imshow(tensor,interpolation='nearest')\n",
    "plt.show()"
   ]
  },
  {
   "cell_type": "code",
   "execution_count": null,
   "metadata": {},
   "outputs": [],
   "source": []
  }
 ],
 "metadata": {
  "kernelspec": {
   "display_name": "Python 3",
   "language": "python",
   "name": "python3"
  },
  "language_info": {
   "codemirror_mode": {
    "name": "ipython",
    "version": 3
   },
   "file_extension": ".py",
   "mimetype": "text/x-python",
   "name": "python",
   "nbconvert_exporter": "python",
   "pygments_lexer": "ipython3",
   "version": "3.8.6"
  }
 },
 "nbformat": 4,
 "nbformat_minor": 4
}
